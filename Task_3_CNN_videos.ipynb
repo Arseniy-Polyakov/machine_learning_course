{
  "cells": [
    {
      "cell_type": "markdown",
      "metadata": {
        "id": "view-in-github",
        "colab_type": "text"
      },
      "source": [
        "<a href=\"https://colab.research.google.com/github/Arseniy-Polyakov/machine_learning_course/blob/main/Task_3_CNN_videos.ipynb\" target=\"_parent\"><img src=\"https://colab.research.google.com/assets/colab-badge.svg\" alt=\"Open In Colab\"/></a>"
      ]
    },
    {
      "cell_type": "markdown",
      "metadata": {
        "id": "eu4Ev3RQMQ7D"
      },
      "source": [
        "В данной работе будет проводиться классификация видеозаписей, где показывается русский жестовый язык (РЖЯ) на основе датасета [Slovo](https://www.kaggle.com/datasets/kapitanov/slovo) с помощью технологий CNN + RNN(LSTM)"
      ]
    },
    {
      "cell_type": "markdown",
      "metadata": {
        "id": "GIrr1XaSMykM"
      },
      "source": [
        "Устанавливаем необходимые библиотеки для скачивания датасета через платформу kaggle, обработки данных и архитектуры модели сверточной и реккурентной нейронной сети"
      ]
    },
    {
      "cell_type": "code",
      "execution_count": null,
      "metadata": {
        "colab": {
          "base_uri": "https://localhost:8080/"
        },
        "collapsed": true,
        "id": "tC5Bh8ZmvncO",
        "outputId": "1ae5c688-cc66-460b-df1a-b2ed676f1047"
      },
      "outputs": [
        {
          "output_type": "stream",
          "name": "stdout",
          "text": [
            "Collecting json_repair\n",
            "  Downloading json_repair-0.46.2-py3-none-any.whl.metadata (12 kB)\n",
            "Downloading json_repair-0.46.2-py3-none-any.whl (22 kB)\n",
            "Installing collected packages: json_repair\n",
            "Successfully installed json_repair-0.46.2\n"
          ]
        }
      ],
      "source": [
        "!pip install json_repair"
      ]
    },
    {
      "cell_type": "code",
      "execution_count": null,
      "metadata": {
        "id": "xHeoQQtRzEjg",
        "colab": {
          "base_uri": "https://localhost:8080/"
        },
        "outputId": "69a489a2-efcf-45ee-a05b-317fc902fe39"
      },
      "outputs": [
        {
          "output_type": "stream",
          "name": "stderr",
          "text": [
            "WARNING:py.warnings:/usr/local/lib/python3.11/dist-packages/moviepy/video/io/sliders.py:61: SyntaxWarning: \"is\" with a literal. Did you mean \"==\"?\n",
            "  if event.key is 'enter':\n",
            "\n"
          ]
        }
      ],
      "source": [
        "import re\n",
        "import os\n",
        "import cv2\n",
        "import kagglehub\n",
        "import json_repair\n",
        "import pandas as pd\n",
        "import numpy as np\n",
        "import tensorflow as tf\n",
        "from tqdm import tqdm\n",
        "from moviepy.editor import VideoFileClip\n",
        "from sklearn.model_selection import train_test_split\n",
        "from sklearn.metrics import accuracy_score, precision_score, recall_score, f1_score\n",
        "from tensorflow.keras.models import Sequential\n",
        "from tensorflow.keras.layers import Conv2D, MaxPooling2D, Flatten, LSTM, Dense, Dropout, Input\n",
        "from tensorflow.keras.utils import to_categorical"
      ]
    },
    {
      "cell_type": "markdown",
      "metadata": {
        "id": "M3MgUVrdND_S"
      },
      "source": [
        "Проходим авторизацию на платформе для получения полного доступа к датасету"
      ]
    },
    {
      "cell_type": "code",
      "execution_count": null,
      "metadata": {
        "colab": {
          "base_uri": "https://localhost:8080/",
          "height": 84,
          "referenced_widgets": [
            "917c986eeb4f44d7b5a0513ae39993e8",
            "11615c0b61794aa9ae4e54f94abffd6b",
            "1c78fd07b33d4857a2f88299de3ffe23",
            "0f2ea4cb37da444ca8dd100fc245d512",
            "e8bb5c8752ca4adbb47b61ddf63ad843",
            "5aa992530565469c9a86852e602abf6e",
            "6e0d204316ac4094a1957774dccc6f13",
            "47f142f1905944c78436aa97449f580a",
            "9476645b1c08400cba30784ae7369974",
            "3bd95cb4a84a498e9b4024ff7f683a98",
            "82a615ebabcc44158b3c1261dfb060d3",
            "3c6654fadd7e46fdae0011d013dae995",
            "cf088136eeef430980421133922d1e5e",
            "bb0387a5b82b422091a5d416bae8a64c",
            "209c92b7f6ef483ab430d0be2d1dfb18",
            "c7a1d6b5b9014055b95571f0e8570b83",
            "7431e77bd32842529ea4bb8877dfc411",
            "9d794961e1bf482a9d615ab1412d163e",
            "2c63ec804158488eaa8932a386888e31",
            "9c12d60f839e47f28316209848823309",
            "74ce2a8686434df9906e6f00845c22fe",
            "51b1c6804df14ef094b7e164c985b0b0",
            "930164a21a344f3c8d89e670f9229e86"
          ]
        },
        "id": "X4wmJSOp3MYW",
        "outputId": "52350ecc-c4ca-4950-aab2-cacf64c3d14f"
      },
      "outputs": [
        {
          "output_type": "display_data",
          "data": {
            "text/plain": [
              "VBox(children=(HTML(value='<center> <img\\nsrc=https://www.kaggle.com/static/images/site-logo.png\\nalt=\\'Kaggle…"
            ],
            "application/vnd.jupyter.widget-view+json": {
              "version_major": 2,
              "version_minor": 0,
              "model_id": "917c986eeb4f44d7b5a0513ae39993e8"
            }
          },
          "metadata": {}
        },
        {
          "output_type": "stream",
          "name": "stdout",
          "text": [
            "Kaggle credentials set.\n",
            "Kaggle credentials successfully validated.\n"
          ]
        }
      ],
      "source": [
        "kagglehub.login()"
      ]
    },
    {
      "cell_type": "markdown",
      "metadata": {
        "id": "Rfe770GhNNP1"
      },
      "source": [
        "Устанавлием датасет в облако google colab"
      ]
    },
    {
      "cell_type": "code",
      "execution_count": null,
      "metadata": {
        "colab": {
          "base_uri": "https://localhost:8080/",
          "height": 35
        },
        "id": "HjAi8YC70xJd",
        "outputId": "4978fbda-78bd-44ca-c824-6b9d9d125400"
      },
      "outputs": [
        {
          "output_type": "execute_result",
          "data": {
            "text/plain": [
              "'/kaggle/input/slovo'"
            ],
            "application/vnd.google.colaboratory.intrinsic+json": {
              "type": "string"
            }
          },
          "metadata": {},
          "execution_count": 5
        }
      ],
      "source": [
        "slovo_dataset = kagglehub.dataset_download(\"kapitanov/slovo\")\n",
        "slovo_dataset"
      ]
    },
    {
      "cell_type": "markdown",
      "metadata": {
        "id": "E4PZcPsYNdc2"
      },
      "source": [
        "Пишем функцию для обработки видео по кадрам и их нормализации: приведения к единому формату, выберем как вариант (112, 112). Также пропишем функцию паддинга для фреймов"
      ]
    },
    {
      "cell_type": "code",
      "source": [
        "def resize_with_padding(frame: list, target_size: tuple, padding_color: tuple) -> list:\n",
        "  \"\"\"\n",
        "  The function for resizing and padding video frames (due to the different length and width of each frame)\n",
        "  \"\"\"\n",
        "  try:\n",
        "    h, w = frame.shape[:2]\n",
        "    target_h, target_w = target_size\n",
        "\n",
        "    scale = min(target_w / w, target_h / h)\n",
        "    new_w, new_h = int(w * scale), int(h * scale)\n",
        "\n",
        "    resized_frame = cv2.resize(frame, (new_w, new_h), interpolation=cv2.INTER_AREA)\n",
        "\n",
        "    delta_w = target_w - new_w\n",
        "    delta_h = target_h - new_h\n",
        "    top, bottom = delta_h // 2, delta_h - (delta_h // 2)\n",
        "    left, right = delta_w // 2, delta_w - (delta_w // 2)\n",
        "\n",
        "    padded_frame = cv2.copyMakeBorder(resized_frame, top, bottom, left, right, cv2.BORDER_CONSTANT, value=padding_color)\n",
        "  except:\n",
        "    print(\"ERROR\")\n",
        "  return padded_frame"
      ],
      "metadata": {
        "id": "4aIH54Sz4OUw"
      },
      "execution_count": null,
      "outputs": []
    },
    {
      "cell_type": "code",
      "execution_count": null,
      "metadata": {
        "collapsed": true,
        "id": "BK2KsdIWJdwq"
      },
      "outputs": [],
      "source": [
        "def extract_features(dir_path: str) -> list:\n",
        "  \"\"\"\n",
        "  The function for parsing videos into frames and resizing every frame\n",
        "  \"\"\"\n",
        "  dataset = []\n",
        "  max_frames = 100\n",
        "  videos = os.listdir(\"/content/samples/\")\n",
        "  for i in tqdm(range(len(videos))):\n",
        "    frames = []\n",
        "    clip = VideoFileClip(dir_path + videos[i])\n",
        "    for frame in clip.iter_frames():\n",
        "      if frame is None:\n",
        "        print(\"None значение\")\n",
        "        break\n",
        "      frame_resized = resize_with_padding(frame, (112, 112), (0, 0, 0))\n",
        "      if frame_resized is None:\n",
        "        print(f\"There was no resizing {videos[i]}\")\n",
        "        break\n",
        "      else:\n",
        "        frame_resized = cv2.cvtColor(frame_resized, cv2.COLOR_BGR2RGB)\n",
        "        frame_resized = frame_resized / 255.0\n",
        "        frames.append(frame_resized)\n",
        "        if len(frames) >= max_frames:\n",
        "          break\n",
        "      while len(frames) < max_frames:\n",
        "        frames.append(np.zeros((112, 112, 3)))\n",
        "    dataset.append(np.array(frames))\n",
        "  return dataset"
      ]
    },
    {
      "cell_type": "code",
      "source": [
        "video_features = extract_features(\"/content/samples/\")\n",
        "for item in video_features:\n",
        "  if item is None or np.isnan(item).any() or np.isnan(item).any() or np.isinf(item).any():\n",
        "    print(\"None\")\n"
      ],
      "metadata": {
        "colab": {
          "base_uri": "https://localhost:8080/"
        },
        "collapsed": true,
        "id": "AkpYMPDkx4bQ",
        "outputId": "803a35d8-eb4e-4d40-f925-fa24327afb72"
      },
      "execution_count": null,
      "outputs": [
        {
          "output_type": "stream",
          "name": "stderr",
          "text": [
            "100%|██████████| 99/99 [00:18<00:00,  5.49it/s]\n"
          ]
        }
      ]
    },
    {
      "cell_type": "markdown",
      "metadata": {
        "id": "32CEearlvfnF"
      },
      "source": [
        "Парсим файл annotations из датасета, который содержит общую информацию, в том числе и перевод РЖЯ на русский вербальный"
      ]
    },
    {
      "cell_type": "code",
      "execution_count": null,
      "metadata": {
        "id": "cJOKDdEOsbz5"
      },
      "outputs": [],
      "source": [
        "with open(\"annotations.txt\", \"rt\", encoding=\"utf-8\") as file:\n",
        "  text = file.read()"
      ]
    },
    {
      "cell_type": "code",
      "execution_count": null,
      "metadata": {
        "collapsed": true,
        "id": "iE4xg092tvY6"
      },
      "outputs": [],
      "source": [
        "text_splitted = re.split(\"\\t|\\n\", text)\n",
        "text = [text_splitted[i] for i in range(8, len(text_splitted), 7)]"
      ]
    },
    {
      "cell_type": "code",
      "execution_count": null,
      "metadata": {
        "colab": {
          "base_uri": "https://localhost:8080/"
        },
        "collapsed": true,
        "id": "nZWP4Jjcvx14",
        "outputId": "59690ec4-7205-4bff-bc6c-fd53c19e8819"
      },
      "outputs": [
        {
          "output_type": "execute_result",
          "data": {
            "text/plain": [
              "33"
            ]
          },
          "metadata": {},
          "execution_count": 11
        }
      ],
      "source": [
        "classes = len(set(text[:100]))\n",
        "classes"
      ]
    },
    {
      "cell_type": "markdown",
      "metadata": {
        "id": "7Lvu7nlJOJ3Z"
      },
      "source": [
        "Извлекаем категории для классификации, создаем на основе них массив"
      ]
    },
    {
      "cell_type": "code",
      "execution_count": null,
      "metadata": {
        "colab": {
          "base_uri": "https://localhost:8080/"
        },
        "id": "IpcKcWxl6dZa",
        "outputId": "11c58205-e43e-4010-fdb8-f8044022af52"
      },
      "outputs": [
        {
          "output_type": "stream",
          "name": "stderr",
          "text": [
            "100%|██████████| 100/100 [00:00<00:00, 492867.69it/s]\n"
          ]
        },
        {
          "output_type": "execute_result",
          "data": {
            "text/plain": [
              "array([[1., 0., 0., ..., 0., 0., 0.],\n",
              "       [0., 1., 0., ..., 0., 0., 0.],\n",
              "       [0., 0., 1., ..., 0., 0., 0.],\n",
              "       ...,\n",
              "       [0., 0., 0., ..., 0., 0., 0.],\n",
              "       [0., 0., 0., ..., 1., 0., 0.],\n",
              "       [0., 0., 0., ..., 0., 0., 0.]])"
            ]
          },
          "metadata": {},
          "execution_count": 12
        }
      ],
      "source": [
        "labels_dict = {}\n",
        "count = 0\n",
        "labels = text[:100]\n",
        "for i in tqdm(range(len(labels))):\n",
        "  if labels[i] not in labels_dict:\n",
        "    labels_dict[labels[i]] = count\n",
        "    count += 1\n",
        "y_labels = [[labels_dict[labels[i]]] for i in range(len(labels))]\n",
        "y_labels_categorical = to_categorical(y_labels, num_classes=classes)\n",
        "y_labels_categorical = np.array(y_labels_categorical)\n",
        "y_labels_categorical"
      ]
    },
    {
      "cell_type": "markdown",
      "metadata": {
        "id": "f7_i29daYeol"
      },
      "source": [
        "Прописываем слои модели CNN + RNN"
      ]
    },
    {
      "cell_type": "code",
      "execution_count": null,
      "metadata": {
        "id": "Hk9Rp38TSglJ"
      },
      "outputs": [],
      "source": [
        "cnn_model = Sequential()\n",
        "cnn_model.add(Input(shape=(112, 112, 3)))\n",
        "cnn_model.add(Conv2D(32, (3, 3), activation='relu'))\n",
        "cnn_model.add(MaxPooling2D((2, 2)))\n",
        "cnn_model.add(Conv2D(64, (3, 3), activation='relu'))\n",
        "cnn_model.add(MaxPooling2D((2, 2)))\n",
        "cnn_model.add(Conv2D(128, (3, 3), activation='relu'))\n",
        "cnn_model.add(MaxPooling2D((2, 2)))\n",
        "cnn_model.add(Flatten())\n",
        "cnn_model.compile(optimizer='adam', loss='categorical_crossentropy', metrics=['accuracy'])"
      ]
    },
    {
      "cell_type": "code",
      "execution_count": null,
      "metadata": {
        "id": "gDdQ5mQeu1xA"
      },
      "outputs": [],
      "source": [
        "history = cnn_model.fit(video_features, batch_size=16, epochs=10)"
      ]
    },
    {
      "cell_type": "code",
      "execution_count": null,
      "metadata": {
        "id": "s6sddmHpqriW"
      },
      "outputs": [],
      "source": [
        "X_features = cnn_model.predict(X_frames)"
      ]
    },
    {
      "cell_type": "code",
      "execution_count": null,
      "metadata": {
        "id": "a20FSc6EbSEX"
      },
      "outputs": [],
      "source": [
        "rnn_model = Sequential()\n",
        "rnn_model.add(LSTM(128, input_shape=(None, 128)))\n",
        "rnn_model.add(Dropout(0.2))\n",
        "rnn_model.add(Dense(64, activation='relu'))\n",
        "rnn_model.add(Dense(classes), activation='softmax')\n",
        "rnn_model.compile(optimizer='adam', loss='categorical_crossentropy', metrics=['accuracy'])"
      ]
    },
    {
      "cell_type": "markdown",
      "metadata": {
        "id": "UW5uC3k6jwW2"
      },
      "source": [
        "Делим датасет на обучающую и тестовую выборки в размере 80/20, обучаем модель RNN, высчитываем показтели качества модели"
      ]
    },
    {
      "cell_type": "code",
      "execution_count": null,
      "metadata": {
        "id": "i39tTkNrvNUO"
      },
      "outputs": [],
      "source": [
        "X_train, X_test, y_train, y_test = train_test_split(X_features, y_labels_categorical, test_size=0.2, random_state=42)\n",
        "rnn_model.fit(X_train, y_train)\n",
        "y_pred = rnn_model.predict(X_test)\n",
        "accuracy_rnn = accuracy_score(y_pred, y_test)\n",
        "precision_rnn = precision_score(y_pred, y_test)\n",
        "recall_rnn = recall_score(y_pred, y_test)\n",
        "f1_rnn = f1_score(y_pred, y_test)"
      ]
    },
    {
      "cell_type": "code",
      "execution_count": null,
      "metadata": {
        "id": "oh6s51GnwHyX"
      },
      "outputs": [],
      "source": [
        "print(f\"F1 score: {f1_rnn}\")"
      ]
    },
    {
      "cell_type": "markdown",
      "source": [
        "На данный момент решаю проблему с None значениями в тензорах при парсинге датасета. Пробовал использовать как и первичный датасет Slovo, так и resize версию, а также делать обработку ошибок на разных этапах предобработки видео, пока что значения None в выборках сохраняются\n"
      ],
      "metadata": {
        "id": "O5heb1NUC25z"
      }
    }
  ],
  "metadata": {
    "accelerator": "GPU",
    "colab": {
      "gpuType": "T4",
      "provenance": [],
      "authorship_tag": "ABX9TyNuQ+Khjw5KqkF8zL+lT8W+",
      "include_colab_link": true
    },
    "kernelspec": {
      "display_name": "Python 3",
      "name": "python3"
    },
    "language_info": {
      "name": "python"
    },
    "widgets": {
      "application/vnd.jupyter.widget-state+json": {
        "917c986eeb4f44d7b5a0513ae39993e8": {
          "model_module": "@jupyter-widgets/controls",
          "model_name": "VBoxModel",
          "model_module_version": "1.5.0",
          "state": {
            "_dom_classes": [],
            "_model_module": "@jupyter-widgets/controls",
            "_model_module_version": "1.5.0",
            "_model_name": "VBoxModel",
            "_view_count": null,
            "_view_module": "@jupyter-widgets/controls",
            "_view_module_version": "1.5.0",
            "_view_name": "VBoxView",
            "box_style": "",
            "children": [
              "IPY_MODEL_74ce2a8686434df9906e6f00845c22fe"
            ],
            "layout": "IPY_MODEL_6e0d204316ac4094a1957774dccc6f13"
          }
        },
        "11615c0b61794aa9ae4e54f94abffd6b": {
          "model_module": "@jupyter-widgets/controls",
          "model_name": "HTMLModel",
          "model_module_version": "1.5.0",
          "state": {
            "_dom_classes": [],
            "_model_module": "@jupyter-widgets/controls",
            "_model_module_version": "1.5.0",
            "_model_name": "HTMLModel",
            "_view_count": null,
            "_view_module": "@jupyter-widgets/controls",
            "_view_module_version": "1.5.0",
            "_view_name": "HTMLView",
            "description": "",
            "description_tooltip": null,
            "layout": "IPY_MODEL_47f142f1905944c78436aa97449f580a",
            "placeholder": "​",
            "style": "IPY_MODEL_9476645b1c08400cba30784ae7369974",
            "value": "<center> <img\nsrc=https://www.kaggle.com/static/images/site-logo.png\nalt='Kaggle'> <br> Create an API token from <a\nhref=\"https://www.kaggle.com/settings/account\" target=\"_blank\">your Kaggle\nsettings page</a> and paste it below along with your Kaggle username. <br> </center>"
          }
        },
        "1c78fd07b33d4857a2f88299de3ffe23": {
          "model_module": "@jupyter-widgets/controls",
          "model_name": "TextModel",
          "model_module_version": "1.5.0",
          "state": {
            "_dom_classes": [],
            "_model_module": "@jupyter-widgets/controls",
            "_model_module_version": "1.5.0",
            "_model_name": "TextModel",
            "_view_count": null,
            "_view_module": "@jupyter-widgets/controls",
            "_view_module_version": "1.5.0",
            "_view_name": "TextView",
            "continuous_update": true,
            "description": "Username:",
            "description_tooltip": null,
            "disabled": false,
            "layout": "IPY_MODEL_3bd95cb4a84a498e9b4024ff7f683a98",
            "placeholder": "​",
            "style": "IPY_MODEL_82a615ebabcc44158b3c1261dfb060d3",
            "value": "arseniipolyakov"
          }
        },
        "0f2ea4cb37da444ca8dd100fc245d512": {
          "model_module": "@jupyter-widgets/controls",
          "model_name": "PasswordModel",
          "model_module_version": "1.5.0",
          "state": {
            "_dom_classes": [],
            "_model_module": "@jupyter-widgets/controls",
            "_model_module_version": "1.5.0",
            "_model_name": "PasswordModel",
            "_view_count": null,
            "_view_module": "@jupyter-widgets/controls",
            "_view_module_version": "1.5.0",
            "_view_name": "PasswordView",
            "continuous_update": true,
            "description": "Token:",
            "description_tooltip": null,
            "disabled": false,
            "layout": "IPY_MODEL_3c6654fadd7e46fdae0011d013dae995",
            "placeholder": "​",
            "style": "IPY_MODEL_cf088136eeef430980421133922d1e5e",
            "value": ""
          }
        },
        "e8bb5c8752ca4adbb47b61ddf63ad843": {
          "model_module": "@jupyter-widgets/controls",
          "model_name": "ButtonModel",
          "model_module_version": "1.5.0",
          "state": {
            "_dom_classes": [],
            "_model_module": "@jupyter-widgets/controls",
            "_model_module_version": "1.5.0",
            "_model_name": "ButtonModel",
            "_view_count": null,
            "_view_module": "@jupyter-widgets/controls",
            "_view_module_version": "1.5.0",
            "_view_name": "ButtonView",
            "button_style": "",
            "description": "Login",
            "disabled": false,
            "icon": "",
            "layout": "IPY_MODEL_bb0387a5b82b422091a5d416bae8a64c",
            "style": "IPY_MODEL_209c92b7f6ef483ab430d0be2d1dfb18",
            "tooltip": ""
          }
        },
        "5aa992530565469c9a86852e602abf6e": {
          "model_module": "@jupyter-widgets/controls",
          "model_name": "HTMLModel",
          "model_module_version": "1.5.0",
          "state": {
            "_dom_classes": [],
            "_model_module": "@jupyter-widgets/controls",
            "_model_module_version": "1.5.0",
            "_model_name": "HTMLModel",
            "_view_count": null,
            "_view_module": "@jupyter-widgets/controls",
            "_view_module_version": "1.5.0",
            "_view_name": "HTMLView",
            "description": "",
            "description_tooltip": null,
            "layout": "IPY_MODEL_c7a1d6b5b9014055b95571f0e8570b83",
            "placeholder": "​",
            "style": "IPY_MODEL_7431e77bd32842529ea4bb8877dfc411",
            "value": "\n<b>Thank You</b></center>"
          }
        },
        "6e0d204316ac4094a1957774dccc6f13": {
          "model_module": "@jupyter-widgets/base",
          "model_name": "LayoutModel",
          "model_module_version": "1.2.0",
          "state": {
            "_model_module": "@jupyter-widgets/base",
            "_model_module_version": "1.2.0",
            "_model_name": "LayoutModel",
            "_view_count": null,
            "_view_module": "@jupyter-widgets/base",
            "_view_module_version": "1.2.0",
            "_view_name": "LayoutView",
            "align_content": null,
            "align_items": "center",
            "align_self": null,
            "border": null,
            "bottom": null,
            "display": "flex",
            "flex": null,
            "flex_flow": "column",
            "grid_area": null,
            "grid_auto_columns": null,
            "grid_auto_flow": null,
            "grid_auto_rows": null,
            "grid_column": null,
            "grid_gap": null,
            "grid_row": null,
            "grid_template_areas": null,
            "grid_template_columns": null,
            "grid_template_rows": null,
            "height": null,
            "justify_content": null,
            "justify_items": null,
            "left": null,
            "margin": null,
            "max_height": null,
            "max_width": null,
            "min_height": null,
            "min_width": null,
            "object_fit": null,
            "object_position": null,
            "order": null,
            "overflow": null,
            "overflow_x": null,
            "overflow_y": null,
            "padding": null,
            "right": null,
            "top": null,
            "visibility": null,
            "width": "50%"
          }
        },
        "47f142f1905944c78436aa97449f580a": {
          "model_module": "@jupyter-widgets/base",
          "model_name": "LayoutModel",
          "model_module_version": "1.2.0",
          "state": {
            "_model_module": "@jupyter-widgets/base",
            "_model_module_version": "1.2.0",
            "_model_name": "LayoutModel",
            "_view_count": null,
            "_view_module": "@jupyter-widgets/base",
            "_view_module_version": "1.2.0",
            "_view_name": "LayoutView",
            "align_content": null,
            "align_items": null,
            "align_self": null,
            "border": null,
            "bottom": null,
            "display": null,
            "flex": null,
            "flex_flow": null,
            "grid_area": null,
            "grid_auto_columns": null,
            "grid_auto_flow": null,
            "grid_auto_rows": null,
            "grid_column": null,
            "grid_gap": null,
            "grid_row": null,
            "grid_template_areas": null,
            "grid_template_columns": null,
            "grid_template_rows": null,
            "height": null,
            "justify_content": null,
            "justify_items": null,
            "left": null,
            "margin": null,
            "max_height": null,
            "max_width": null,
            "min_height": null,
            "min_width": null,
            "object_fit": null,
            "object_position": null,
            "order": null,
            "overflow": null,
            "overflow_x": null,
            "overflow_y": null,
            "padding": null,
            "right": null,
            "top": null,
            "visibility": null,
            "width": null
          }
        },
        "9476645b1c08400cba30784ae7369974": {
          "model_module": "@jupyter-widgets/controls",
          "model_name": "DescriptionStyleModel",
          "model_module_version": "1.5.0",
          "state": {
            "_model_module": "@jupyter-widgets/controls",
            "_model_module_version": "1.5.0",
            "_model_name": "DescriptionStyleModel",
            "_view_count": null,
            "_view_module": "@jupyter-widgets/base",
            "_view_module_version": "1.2.0",
            "_view_name": "StyleView",
            "description_width": ""
          }
        },
        "3bd95cb4a84a498e9b4024ff7f683a98": {
          "model_module": "@jupyter-widgets/base",
          "model_name": "LayoutModel",
          "model_module_version": "1.2.0",
          "state": {
            "_model_module": "@jupyter-widgets/base",
            "_model_module_version": "1.2.0",
            "_model_name": "LayoutModel",
            "_view_count": null,
            "_view_module": "@jupyter-widgets/base",
            "_view_module_version": "1.2.0",
            "_view_name": "LayoutView",
            "align_content": null,
            "align_items": null,
            "align_self": null,
            "border": null,
            "bottom": null,
            "display": null,
            "flex": null,
            "flex_flow": null,
            "grid_area": null,
            "grid_auto_columns": null,
            "grid_auto_flow": null,
            "grid_auto_rows": null,
            "grid_column": null,
            "grid_gap": null,
            "grid_row": null,
            "grid_template_areas": null,
            "grid_template_columns": null,
            "grid_template_rows": null,
            "height": null,
            "justify_content": null,
            "justify_items": null,
            "left": null,
            "margin": null,
            "max_height": null,
            "max_width": null,
            "min_height": null,
            "min_width": null,
            "object_fit": null,
            "object_position": null,
            "order": null,
            "overflow": null,
            "overflow_x": null,
            "overflow_y": null,
            "padding": null,
            "right": null,
            "top": null,
            "visibility": null,
            "width": null
          }
        },
        "82a615ebabcc44158b3c1261dfb060d3": {
          "model_module": "@jupyter-widgets/controls",
          "model_name": "DescriptionStyleModel",
          "model_module_version": "1.5.0",
          "state": {
            "_model_module": "@jupyter-widgets/controls",
            "_model_module_version": "1.5.0",
            "_model_name": "DescriptionStyleModel",
            "_view_count": null,
            "_view_module": "@jupyter-widgets/base",
            "_view_module_version": "1.2.0",
            "_view_name": "StyleView",
            "description_width": ""
          }
        },
        "3c6654fadd7e46fdae0011d013dae995": {
          "model_module": "@jupyter-widgets/base",
          "model_name": "LayoutModel",
          "model_module_version": "1.2.0",
          "state": {
            "_model_module": "@jupyter-widgets/base",
            "_model_module_version": "1.2.0",
            "_model_name": "LayoutModel",
            "_view_count": null,
            "_view_module": "@jupyter-widgets/base",
            "_view_module_version": "1.2.0",
            "_view_name": "LayoutView",
            "align_content": null,
            "align_items": null,
            "align_self": null,
            "border": null,
            "bottom": null,
            "display": null,
            "flex": null,
            "flex_flow": null,
            "grid_area": null,
            "grid_auto_columns": null,
            "grid_auto_flow": null,
            "grid_auto_rows": null,
            "grid_column": null,
            "grid_gap": null,
            "grid_row": null,
            "grid_template_areas": null,
            "grid_template_columns": null,
            "grid_template_rows": null,
            "height": null,
            "justify_content": null,
            "justify_items": null,
            "left": null,
            "margin": null,
            "max_height": null,
            "max_width": null,
            "min_height": null,
            "min_width": null,
            "object_fit": null,
            "object_position": null,
            "order": null,
            "overflow": null,
            "overflow_x": null,
            "overflow_y": null,
            "padding": null,
            "right": null,
            "top": null,
            "visibility": null,
            "width": null
          }
        },
        "cf088136eeef430980421133922d1e5e": {
          "model_module": "@jupyter-widgets/controls",
          "model_name": "DescriptionStyleModel",
          "model_module_version": "1.5.0",
          "state": {
            "_model_module": "@jupyter-widgets/controls",
            "_model_module_version": "1.5.0",
            "_model_name": "DescriptionStyleModel",
            "_view_count": null,
            "_view_module": "@jupyter-widgets/base",
            "_view_module_version": "1.2.0",
            "_view_name": "StyleView",
            "description_width": ""
          }
        },
        "bb0387a5b82b422091a5d416bae8a64c": {
          "model_module": "@jupyter-widgets/base",
          "model_name": "LayoutModel",
          "model_module_version": "1.2.0",
          "state": {
            "_model_module": "@jupyter-widgets/base",
            "_model_module_version": "1.2.0",
            "_model_name": "LayoutModel",
            "_view_count": null,
            "_view_module": "@jupyter-widgets/base",
            "_view_module_version": "1.2.0",
            "_view_name": "LayoutView",
            "align_content": null,
            "align_items": null,
            "align_self": null,
            "border": null,
            "bottom": null,
            "display": null,
            "flex": null,
            "flex_flow": null,
            "grid_area": null,
            "grid_auto_columns": null,
            "grid_auto_flow": null,
            "grid_auto_rows": null,
            "grid_column": null,
            "grid_gap": null,
            "grid_row": null,
            "grid_template_areas": null,
            "grid_template_columns": null,
            "grid_template_rows": null,
            "height": null,
            "justify_content": null,
            "justify_items": null,
            "left": null,
            "margin": null,
            "max_height": null,
            "max_width": null,
            "min_height": null,
            "min_width": null,
            "object_fit": null,
            "object_position": null,
            "order": null,
            "overflow": null,
            "overflow_x": null,
            "overflow_y": null,
            "padding": null,
            "right": null,
            "top": null,
            "visibility": null,
            "width": null
          }
        },
        "209c92b7f6ef483ab430d0be2d1dfb18": {
          "model_module": "@jupyter-widgets/controls",
          "model_name": "ButtonStyleModel",
          "model_module_version": "1.5.0",
          "state": {
            "_model_module": "@jupyter-widgets/controls",
            "_model_module_version": "1.5.0",
            "_model_name": "ButtonStyleModel",
            "_view_count": null,
            "_view_module": "@jupyter-widgets/base",
            "_view_module_version": "1.2.0",
            "_view_name": "StyleView",
            "button_color": null,
            "font_weight": ""
          }
        },
        "c7a1d6b5b9014055b95571f0e8570b83": {
          "model_module": "@jupyter-widgets/base",
          "model_name": "LayoutModel",
          "model_module_version": "1.2.0",
          "state": {
            "_model_module": "@jupyter-widgets/base",
            "_model_module_version": "1.2.0",
            "_model_name": "LayoutModel",
            "_view_count": null,
            "_view_module": "@jupyter-widgets/base",
            "_view_module_version": "1.2.0",
            "_view_name": "LayoutView",
            "align_content": null,
            "align_items": null,
            "align_self": null,
            "border": null,
            "bottom": null,
            "display": null,
            "flex": null,
            "flex_flow": null,
            "grid_area": null,
            "grid_auto_columns": null,
            "grid_auto_flow": null,
            "grid_auto_rows": null,
            "grid_column": null,
            "grid_gap": null,
            "grid_row": null,
            "grid_template_areas": null,
            "grid_template_columns": null,
            "grid_template_rows": null,
            "height": null,
            "justify_content": null,
            "justify_items": null,
            "left": null,
            "margin": null,
            "max_height": null,
            "max_width": null,
            "min_height": null,
            "min_width": null,
            "object_fit": null,
            "object_position": null,
            "order": null,
            "overflow": null,
            "overflow_x": null,
            "overflow_y": null,
            "padding": null,
            "right": null,
            "top": null,
            "visibility": null,
            "width": null
          }
        },
        "7431e77bd32842529ea4bb8877dfc411": {
          "model_module": "@jupyter-widgets/controls",
          "model_name": "DescriptionStyleModel",
          "model_module_version": "1.5.0",
          "state": {
            "_model_module": "@jupyter-widgets/controls",
            "_model_module_version": "1.5.0",
            "_model_name": "DescriptionStyleModel",
            "_view_count": null,
            "_view_module": "@jupyter-widgets/base",
            "_view_module_version": "1.2.0",
            "_view_name": "StyleView",
            "description_width": ""
          }
        },
        "9d794961e1bf482a9d615ab1412d163e": {
          "model_module": "@jupyter-widgets/controls",
          "model_name": "LabelModel",
          "model_module_version": "1.5.0",
          "state": {
            "_dom_classes": [],
            "_model_module": "@jupyter-widgets/controls",
            "_model_module_version": "1.5.0",
            "_model_name": "LabelModel",
            "_view_count": null,
            "_view_module": "@jupyter-widgets/controls",
            "_view_module_version": "1.5.0",
            "_view_name": "LabelView",
            "description": "",
            "description_tooltip": null,
            "layout": "IPY_MODEL_2c63ec804158488eaa8932a386888e31",
            "placeholder": "​",
            "style": "IPY_MODEL_9c12d60f839e47f28316209848823309",
            "value": "Connecting..."
          }
        },
        "2c63ec804158488eaa8932a386888e31": {
          "model_module": "@jupyter-widgets/base",
          "model_name": "LayoutModel",
          "model_module_version": "1.2.0",
          "state": {
            "_model_module": "@jupyter-widgets/base",
            "_model_module_version": "1.2.0",
            "_model_name": "LayoutModel",
            "_view_count": null,
            "_view_module": "@jupyter-widgets/base",
            "_view_module_version": "1.2.0",
            "_view_name": "LayoutView",
            "align_content": null,
            "align_items": null,
            "align_self": null,
            "border": null,
            "bottom": null,
            "display": null,
            "flex": null,
            "flex_flow": null,
            "grid_area": null,
            "grid_auto_columns": null,
            "grid_auto_flow": null,
            "grid_auto_rows": null,
            "grid_column": null,
            "grid_gap": null,
            "grid_row": null,
            "grid_template_areas": null,
            "grid_template_columns": null,
            "grid_template_rows": null,
            "height": null,
            "justify_content": null,
            "justify_items": null,
            "left": null,
            "margin": null,
            "max_height": null,
            "max_width": null,
            "min_height": null,
            "min_width": null,
            "object_fit": null,
            "object_position": null,
            "order": null,
            "overflow": null,
            "overflow_x": null,
            "overflow_y": null,
            "padding": null,
            "right": null,
            "top": null,
            "visibility": null,
            "width": null
          }
        },
        "9c12d60f839e47f28316209848823309": {
          "model_module": "@jupyter-widgets/controls",
          "model_name": "DescriptionStyleModel",
          "model_module_version": "1.5.0",
          "state": {
            "_model_module": "@jupyter-widgets/controls",
            "_model_module_version": "1.5.0",
            "_model_name": "DescriptionStyleModel",
            "_view_count": null,
            "_view_module": "@jupyter-widgets/base",
            "_view_module_version": "1.2.0",
            "_view_name": "StyleView",
            "description_width": ""
          }
        },
        "74ce2a8686434df9906e6f00845c22fe": {
          "model_module": "@jupyter-widgets/controls",
          "model_name": "LabelModel",
          "model_module_version": "1.5.0",
          "state": {
            "_dom_classes": [],
            "_model_module": "@jupyter-widgets/controls",
            "_model_module_version": "1.5.0",
            "_model_name": "LabelModel",
            "_view_count": null,
            "_view_module": "@jupyter-widgets/controls",
            "_view_module_version": "1.5.0",
            "_view_name": "LabelView",
            "description": "",
            "description_tooltip": null,
            "layout": "IPY_MODEL_51b1c6804df14ef094b7e164c985b0b0",
            "placeholder": "​",
            "style": "IPY_MODEL_930164a21a344f3c8d89e670f9229e86",
            "value": "Kaggle credentials successfully validated."
          }
        },
        "51b1c6804df14ef094b7e164c985b0b0": {
          "model_module": "@jupyter-widgets/base",
          "model_name": "LayoutModel",
          "model_module_version": "1.2.0",
          "state": {
            "_model_module": "@jupyter-widgets/base",
            "_model_module_version": "1.2.0",
            "_model_name": "LayoutModel",
            "_view_count": null,
            "_view_module": "@jupyter-widgets/base",
            "_view_module_version": "1.2.0",
            "_view_name": "LayoutView",
            "align_content": null,
            "align_items": null,
            "align_self": null,
            "border": null,
            "bottom": null,
            "display": null,
            "flex": null,
            "flex_flow": null,
            "grid_area": null,
            "grid_auto_columns": null,
            "grid_auto_flow": null,
            "grid_auto_rows": null,
            "grid_column": null,
            "grid_gap": null,
            "grid_row": null,
            "grid_template_areas": null,
            "grid_template_columns": null,
            "grid_template_rows": null,
            "height": null,
            "justify_content": null,
            "justify_items": null,
            "left": null,
            "margin": null,
            "max_height": null,
            "max_width": null,
            "min_height": null,
            "min_width": null,
            "object_fit": null,
            "object_position": null,
            "order": null,
            "overflow": null,
            "overflow_x": null,
            "overflow_y": null,
            "padding": null,
            "right": null,
            "top": null,
            "visibility": null,
            "width": null
          }
        },
        "930164a21a344f3c8d89e670f9229e86": {
          "model_module": "@jupyter-widgets/controls",
          "model_name": "DescriptionStyleModel",
          "model_module_version": "1.5.0",
          "state": {
            "_model_module": "@jupyter-widgets/controls",
            "_model_module_version": "1.5.0",
            "_model_name": "DescriptionStyleModel",
            "_view_count": null,
            "_view_module": "@jupyter-widgets/base",
            "_view_module_version": "1.2.0",
            "_view_name": "StyleView",
            "description_width": ""
          }
        }
      }
    }
  },
  "nbformat": 4,
  "nbformat_minor": 0
}